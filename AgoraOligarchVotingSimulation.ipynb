{
 "cells": [
  {
   "cell_type": "code",
   "execution_count": 2,
   "id": "207bdff6",
   "metadata": {},
   "outputs": [],
   "source": [
    "import numpy as np\n",
    "import pandas as pd\n",
    "import matplotlib.pyplot as plt\n",
    "import seaborn as sns"
   ]
  },
  {
   "cell_type": "code",
   "execution_count": 213,
   "id": "d2f01e61",
   "metadata": {},
   "outputs": [],
   "source": [
    "N_VOTERS = 1_000\n",
    "TOTAL_REP = 1_000_000\n",
    "oligarch_factor = 0.01  # What % of voters can make 51% of all reputation\n",
    "\n",
    "n_oligarchs = int(N_VOTERS * oligarch_factor)\n",
    "n_plebs = N_VOTERS - n_oligarchs\n",
    "\n",
    "oligarch_total_rep = int(TOTAL_REP * 0.51)\n",
    "pleb_total_rep = TOTAL_REP - oligarch_total_rep\n",
    "\n",
    "distribution_of_plebs = 'uniform'\n",
    "distribution_of_oligarchs = 'linear'"
   ]
  },
  {
   "cell_type": "markdown",
   "id": "90387834",
   "metadata": {},
   "source": [
    "## Linear distribution\n",
    "$S = \\frac{n}{2}(2a + (n - 1)d)$\n",
    "\n",
    "$d = \\frac{\\frac{2S}{n} - 2a}{n - 1}$\n",
    "\n",
    "$a$ is the minimum rep of given group, $0$ for plebs, $max(pleb\\_rep)$ for oligarchs"
   ]
  },
  {
   "cell_type": "code",
   "execution_count": 214,
   "id": "54b9c75a",
   "metadata": {},
   "outputs": [],
   "source": [
    "def get_uniform(total, n, a):\n",
    "    return np.ones(n) * (total / n)\n",
    "\n",
    "def get_linear(total, n, a):\n",
    "    d = (((2 * total) / n) - (2 * a)) / (n - 1)\n",
    "    first, last = a, (n - 1) * d\n",
    "    return np.linspace(first, last, n)\n",
    "\n",
    "dist_function = {\n",
    "    'uniform': get_uniform,\n",
    "    'linear': get_linear\n",
    "}"
   ]
  },
  {
   "cell_type": "code",
   "execution_count": 215,
   "id": "084f656a",
   "metadata": {},
   "outputs": [],
   "source": [
    "pleb_merit = dist_function[distribution_of_plebs](pleb_total_rep, n_plebs, 0)\n",
    "oligarch_merit = dist_function[distribution_of_oligarchs](oligarch_total_rep, n_oligarchs, 5 * max(pleb_merit))"
   ]
  },
  {
   "cell_type": "code",
   "execution_count": 216,
   "id": "5b65adb7",
   "metadata": {},
   "outputs": [],
   "source": [
    "penalty_exponent = 1 / 2\n",
    "max_vote = (2 * oligarch_factor) ** penalty_exponent * max(oligarch_merit)\n",
    "\n",
    "clamped_pleb_vote = np.minimum(max_vote, pleb_merit)\n",
    "clamped_oligarch_vote = np.minimum(max_vote, oligarch_merit)\n",
    "\n",
    "pleb_voting_strength = clamped_pleb_vote / pleb_merit\n",
    "oligarch_voting_strength = clamped_oligarch_vote / oligarch_merit"
   ]
  },
  {
   "cell_type": "code",
   "execution_count": 217,
   "id": "4bb37b1d",
   "metadata": {},
   "outputs": [
    {
     "data": {
      "text/plain": [
       "<matplotlib.legend.Legend at 0x7f0ed5835dc0>"
      ]
     },
     "execution_count": 217,
     "metadata": {},
     "output_type": "execute_result"
    },
    {
     "data": {
      "image/png": "[encoded data removed]",
      "text/plain": [
       "<Figure size 504x864 with 3 Axes>"
      ]
     },
     "metadata": {
      "needs_background": "light"
     },
     "output_type": "display_data"
    }
   ],
   "source": [
    "fig, axes = plt.subplots(3, 1, sharex=True, figsize=(7, 12))\n",
    "\n",
    "axes[0].bar(0, pleb_merit[-1], color='gray', label='Merit of one pleb')\n",
    "axes[0].bar(list(range(1, 1 + len(oligarch_merit))), oligarch_merit, color='black', label='All available oligarch merit')\n",
    "axes[0].legend()\n",
    "\n",
    "axes[1].bar(0, pleb_merit[-1], color='gray', label='Merit of one pleb')\n",
    "axes[1].bar(list(range(1, 1 + len(oligarch_merit))), clamped_oligarch_vote, color='black', label='Oligarch merit available for voting')\n",
    "axes[1].legend()\n",
    "\n",
    "axes[2].set_ylim(0, 110)\n",
    "axes[2].bar(0, (pleb_voting_strength * 100)[-1], color='gray', label='Pleb voting strength (%)')\n",
    "axes[2].bar(list(range(1, 1 + len(oligarch_merit))), oligarch_voting_strength * 100, color='black', label='Oligarch voting strength (%)')\n",
    "axes[2].legend()"
   ]
  },
  {
   "cell_type": "code",
   "execution_count": 218,
   "id": "3ee3649d",
   "metadata": {},
   "outputs": [
    {
     "name": "stdout",
     "output_type": "stream",
     "text": [
      "Total oligarch merit available for voting: 125258.02\n",
      "Total pleb merit available for voting: 490000.00\n",
      "Total merit available for voting: 615258.02\n",
      "Oligarch strength (in % amount of merit they can vote with): 12.53%\n",
      "Oligarch relative advantage (oligarch strength / oligarch ratio): 12.53\n",
      "Oligarch advantage over plebs (average oligarch vote / average pleb vote): 25.31\n"
     ]
    }
   ],
   "source": [
    "print(f'Total oligarch merit available for voting: {sum(clamped_oligarch_vote):.2f}')\n",
    "print(f'Total pleb merit available for voting: {sum(clamped_pleb_vote):.2f}')\n",
    "print(f'Total merit available for voting: {sum(clamped_oligarch_vote) + sum(clamped_pleb_vote):.2f}')\n",
    "print(f'Oligarch strength (in % amount of merit they can vote with): {sum(clamped_oligarch_vote) / TOTAL_REP * 100:.2f}%')\n",
    "print(f'Oligarch relative advantage (oligarch strength / oligarch ratio): {(sum(clamped_oligarch_vote) / TOTAL_REP) / oligarch_factor:.2f}')\n",
    "print(f'Oligarch advantage over plebs (average oligarch vote / average pleb vote): {(sum(clamped_oligarch_vote) / n_oligarchs) / (sum(clamped_pleb_vote) / n_plebs):.2f}')"
   ]
  },
  {
   "cell_type": "code",
   "execution_count": 219,
   "id": "13d9a276",
   "metadata": {},
   "outputs": [
    {
     "name": "stdout",
     "output_type": "stream",
     "text": [
      "Minimum number of people needed to reach 51%: 788/1000 (10/10 oligarchs, 778/990 plebs)\n"
     ]
    }
   ],
   "source": [
    "rep_needed = int(TOTAL_REP * 0.51)\n",
    "oligarchs_needed_to_51 = 0\n",
    "for oligarch_needed in clamped_oligarch_vote[::-1]:\n",
    "    if rep_needed <= 0:\n",
    "        break\n",
    "    oligarchs_needed_to_51 += 1\n",
    "    rep_needed -= oligarch_needed\n",
    "\n",
    "\n",
    "plebs_needed_to_51 = 0\n",
    "for pleb_vote in clamped_pleb_vote[::-1]:\n",
    "    if rep_needed <= 0:\n",
    "        break\n",
    "    plebs_needed_to_51 += 1\n",
    "    rep_needed -= pleb_vote\n",
    "print(f'Minimum number of people needed to reach 51%: {oligarchs_needed_to_51 + plebs_needed_to_51}/{N_VOTERS} ({oligarchs_needed_to_51}/{n_oligarchs} oligarchs, {plebs_needed_to_51}/{n_plebs} plebs)')"
   ]
  },
  {
   "cell_type": "code",
   "execution_count": null,
   "id": "86b7e14e",
   "metadata": {},
   "outputs": [],
   "source": []
  }
 ],
 "metadata": {
  "kernelspec": {
   "display_name": "Python 3 (ipykernel)",
   "language": "python",
   "name": "python3"
  },
  "language_info": {
   "codemirror_mode": {
    "name": "ipython",
    "version": 3
   },
   "file_extension": ".py",
   "mimetype": "text/x-python",
   "name": "python",
   "nbconvert_exporter": "python",
   "pygments_lexer": "ipython3",
   "version": "3.8.2"
  }
 },
 "nbformat": 4,
 "nbformat_minor": 5
}
